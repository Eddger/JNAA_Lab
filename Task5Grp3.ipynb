{
 "cells": [
  {
   "cell_type": "markdown",
   "metadata": {},
   "source": [
    "# TASK 5"
   ]
  },
  {
   "cell_type": "markdown",
   "metadata": {},
   "source": [
    "--------------------------"
   ]
  },
  {
   "cell_type": "markdown",
   "metadata": {},
   "source": [
    "- compute for the following functions"
   ]
  },
  {
   "cell_type": "markdown",
   "metadata": {},
   "source": [
    "$$ e_s = e_o exp (\\frac{AT}{T+T'})$$      \n"
   ]
  },
  {
   "cell_type": "markdown",
   "metadata": {},
   "source": [
    "-----------------------------------------"
   ]
  },
  {
   "cell_type": "markdown",
   "metadata": {},
   "source": [
    "$$\\frac {de_s}{dT} = {\\Delta} = \\frac{Le_s}{Rv (T + 273.16)^2}$$\n"
   ]
  },
  {
   "cell_type": "markdown",
   "metadata": {},
   "source": [
    "-------------------------------------------"
   ]
  },
  {
   "cell_type": "markdown",
   "metadata": {},
   "source": [
    "$$e = e_s\\frac {RH} {100}$$\n",
    "\n"
   ]
  },
  {
   "cell_type": "markdown",
   "metadata": {},
   "source": [
    "-----------------------------------------------------"
   ]
  },
  {
   "cell_type": "markdown",
   "metadata": {},
   "source": [
    " $$T_d =\\frac{T'ln\\frac{e}{e_o}}{A-ln\\frac{e}{e_o}} $$\n",
    " "
   ]
  },
  {
   "cell_type": "markdown",
   "metadata": {},
   "source": [
    "-------------------------------------------------"
   ]
  },
  {
   "cell_type": "markdown",
   "metadata": {},
   "source": [
    "- T' = 273.3K\n",
    "- e_o = 6.11hPa (SVP at $0^oC)$ \n",
    "- A = 17.27\n",
    "\n",
    "- L = Latent Heat of Vaporisation = 2.45 $\\times 10^6 JKg^-1.$\n",
    "- R_v = gas constant for water = 461 $J Kg^-1 K^-1$\n",
    "- RH = Relative Humidty in percentage "
   ]
  },
  {
   "cell_type": "code",
   "execution_count": 1,
   "metadata": {},
   "outputs": [],
   "source": [
    "import numpy as np\n",
    "from numpy import log as ln"
   ]
  },
  {
   "cell_type": "markdown",
   "metadata": {},
   "source": [
    "Creating a function that performs some climate calculations\n",
    "="
   ]
  },
  {
   "cell_type": "code",
   "execution_count": 2,
   "metadata": {},
   "outputs": [
    {
     "name": "stdout",
     "output_type": "stream",
     "text": [
      "Enter the tenmperature value: 25\n",
      "What is its units: celcius\n",
      "Enter the Relative Humidity in %: 68\n",
      "(12095524.435308998, 196945.56726837478, 8224956.616010119, 1221.6405893468568)\n"
     ]
    }
   ],
   "source": [
    "#Creating an input option to allow the user enter their own values\n",
    "T=int(input('Enter the tenmperature value: '))\n",
    "units=input('What is its units: ')\n",
    "RH=int(input('Enter the Relative Humidity in %: '))\n",
    "\n",
    "#Assigning certain constants\n",
    "T1=273.3\n",
    "e_o=6.11\n",
    "A=17.27\n",
    "L=2.45*(10**6)\n",
    "Rv=461\n",
    "\n",
    "#Creating the function that takes 3 variables\n",
    "#using if and elif to specify what formulas to apply for Kelvin and Celcius values\n",
    "def es(T,RH,units):\n",
    "    if units.upper()=='C' or units.upper()=='CELCIUS':\n",
    "        T=T + 273.15\n",
    "        e_s = e_o**((A*T)/(T+T1))\n",
    "        ch = ((L*e_s)/(Rv*(T+273.16)**2))\n",
    "        e=(e_s*(RH/100))\n",
    "        Td=(T1*ln(e/e_o))/(A-ln(e/e_o))\n",
    "    elif units.upper()=='K' or units.upper()=='KELVIN':    \n",
    "        e_s = e_o**((A*T)/(T+T1))\n",
    "        ch = ((L*e_s)/(Rv*(T+273.16)**2))\n",
    "        e=(e_s*(RH/100))\n",
    "        Td=(T1*ln(e/e_o))/(A-ln(e/e_o))\n",
    "    return e_s,ch, e, Td\n",
    "print(es(T,RH,units))"
   ]
  },
  {
   "cell_type": "code",
   "execution_count": null,
   "metadata": {},
   "outputs": [],
   "source": []
  }
 ],
 "metadata": {
  "kernelspec": {
   "display_name": "Python 3 (ipykernel)",
   "language": "python",
   "name": "python3"
  },
  "language_info": {
   "codemirror_mode": {
    "name": "ipython",
    "version": 3
   },
   "file_extension": ".py",
   "mimetype": "text/x-python",
   "name": "python",
   "nbconvert_exporter": "python",
   "pygments_lexer": "ipython3",
   "version": "3.9.12"
  }
 },
 "nbformat": 4,
 "nbformat_minor": 4
}
